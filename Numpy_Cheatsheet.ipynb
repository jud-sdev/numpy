{
 "cells": [
  {
   "cell_type": "markdown",
   "id": "5af5417a",
   "metadata": {},
   "source": [
    "# NumPy Cheatsheet"
   ]
  },
  {
   "cell_type": "markdown",
   "id": "8d24cd5d",
   "metadata": {},
   "source": [
    "## NumPy Basics"
   ]
  },
  {
   "cell_type": "code",
   "execution_count": null,
   "id": "3e6921e7",
   "metadata": {},
   "outputs": [],
   "source": [
    "\n",
    "import numpy as np\n"
   ]
  },
  {
   "cell_type": "markdown",
   "id": "8a52ae18",
   "metadata": {},
   "source": [
    "## Creating Arrays"
   ]
  },
  {
   "cell_type": "code",
   "execution_count": null,
   "id": "840a49bd",
   "metadata": {},
   "outputs": [],
   "source": [
    "\n",
    "# From lists\n",
    "arr = np.array([1, 2, 3, 4, 5])\n",
    "\n",
    "# From tuples\n",
    "arr = np.array((1, 2, 3, 4, 5))\n",
    "\n",
    "# Multidimensional array\n",
    "arr = np.array([[1, 2, 3], [4, 5, 6]])\n",
    "\n",
    "# Zeros\n",
    "arr = np.zeros((2, 3))\n",
    "\n",
    "# Ones\n",
    "arr = np.ones((2, 3))\n",
    "\n",
    "# Empty array\n",
    "arr = np.empty((2, 3))\n",
    "\n",
    "# Range of numbers\n",
    "arr = np.arange(10)  # 0 to 9\n",
    "arr = np.arange(2, 10, 2)  # 2 to 8 with step 2\n",
    "\n",
    "# Evenly spaced numbers over a specified interval\n",
    "arr = np.linspace(0, 5, 10)  # 10 numbers from 0 to 5\n"
   ]
  },
  {
   "cell_type": "markdown",
   "id": "91da99c9",
   "metadata": {},
   "source": [
    "## Array Attributes"
   ]
  },
  {
   "cell_type": "code",
   "execution_count": null,
   "id": "28ad4f5d",
   "metadata": {},
   "outputs": [],
   "source": [
    "\n",
    "arr = np.array([[1, 2, 3], [4, 5, 6]])\n",
    "\n",
    "# Shape of the array\n",
    "arr.shape\n",
    "\n",
    "# Number of dimensions\n",
    "arr.ndim\n",
    "\n",
    "# Size (number of elements)\n",
    "arr.size\n",
    "\n",
    "# Data type of elements\n",
    "arr.dtype\n"
   ]
  },
  {
   "cell_type": "markdown",
   "id": "b67a2950",
   "metadata": {},
   "source": [
    "## Reshaping Arrays"
   ]
  },
  {
   "cell_type": "code",
   "execution_count": null,
   "id": "69cca17b",
   "metadata": {},
   "outputs": [],
   "source": [
    "\n",
    "arr = np.array([[1, 2, 3], [4, 5, 6]])\n",
    "\n",
    "# Reshape\n",
    "arr_reshaped = arr.reshape((3, 2))\n",
    "\n",
    "# Flatten\n",
    "arr_flattened = arr.flatten()\n"
   ]
  },
  {
   "cell_type": "markdown",
   "id": "bb67ae9b",
   "metadata": {},
   "source": [
    "## Indexing and Slicing"
   ]
  },
  {
   "cell_type": "code",
   "execution_count": null,
   "id": "ffd46c0a",
   "metadata": {},
   "outputs": [],
   "source": [
    "\n",
    "arr = np.array([1, 2, 3, 4, 5])\n",
    "\n",
    "# Indexing\n",
    "arr[0]  # First element\n",
    "arr[-1]  # Last element\n",
    "\n",
    "# Slicing\n",
    "arr[1:3]  # Elements from index 1 to 2\n",
    "arr[:3]  # First three elements\n",
    "arr[::2]  # Every second element\n",
    "\n",
    "# Multidimensional array\n",
    "arr2d = np.array([[1, 2, 3], [4, 5, 6]])\n",
    "arr2d[0, 1]  # Element at (0, 1)\n",
    "arr2d[:, 1]  # Second column\n",
    "arr2d[1, :]  # Second row\n"
   ]
  },
  {
   "cell_type": "markdown",
   "id": "792e66d5",
   "metadata": {},
   "source": [
    "## Array Operations"
   ]
  },
  {
   "cell_type": "code",
   "execution_count": null,
   "id": "c86ceba0",
   "metadata": {},
   "outputs": [],
   "source": [
    "\n",
    "arr1 = np.array([1, 2, 3])\n",
    "arr2 = np.array([4, 5, 6])\n",
    "\n",
    "# Element-wise operations\n",
    "sum_arr = arr1 + arr2\n",
    "diff_arr = arr1 - arr2\n",
    "prod_arr = arr1 * arr2\n",
    "div_arr = arr1 / arr2\n",
    "\n",
    "# Universal functions (ufunc)\n",
    "sqrt_arr = np.sqrt(arr1)\n",
    "exp_arr = np.exp(arr1)\n",
    "log_arr = np.log(arr1)\n",
    "\n",
    "# Aggregations\n",
    "arr = np.array([1, 2, 3, 4, 5])\n",
    "arr.sum()\n",
    "arr.mean()\n",
    "arr.min()\n",
    "arr.max()\n",
    "arr.cumsum()  # Cumulative sum\n",
    "arr.prod()  # Product of all elements\n"
   ]
  },
  {
   "cell_type": "markdown",
   "id": "8760bbce",
   "metadata": {},
   "source": [
    "## Linear Algebra"
   ]
  },
  {
   "cell_type": "code",
   "execution_count": null,
   "id": "e75c37a8",
   "metadata": {},
   "outputs": [],
   "source": [
    "\n",
    "# Dot product\n",
    "arr1 = np.array([1, 2, 3])\n",
    "arr2 = np.array([4, 5, 6])\n",
    "dot_product = np.dot(arr1, arr2)\n",
    "\n",
    "# Matrix multiplication\n",
    "mat1 = np.array([[1, 2], [3, 4]])\n",
    "mat2 = np.array([[5, 6], [7, 8]])\n",
    "mat_mul = np.matmul(mat1, mat2)\n",
    "\n",
    "# Transpose\n",
    "arr = np.array([[1, 2], [3, 4]])\n",
    "arr.T\n",
    "\n",
    "# Inverse\n",
    "arr = np.array([[1, 2], [3, 4]])\n",
    "inv_arr = np.linalg.inv(arr)\n"
   ]
  },
  {
   "cell_type": "markdown",
   "id": "afee8213",
   "metadata": {},
   "source": [
    "## Random Numbers"
   ]
  },
  {
   "cell_type": "code",
   "execution_count": null,
   "id": "808a375e",
   "metadata": {},
   "outputs": [],
   "source": [
    "\n",
    "# Random numbers between 0 and 1\n",
    "rand_arr = np.random.rand(3, 2)\n",
    "\n",
    "# Normally distributed random numbers\n",
    "norm_arr = np.random.randn(3, 2)\n",
    "\n",
    "# Random integers\n",
    "int_arr = np.random.randint(1, 10, size=(3, 3))\n",
    "\n",
    "# Seed for reproducibility\n",
    "np.random.seed(42)\n"
   ]
  },
  {
   "cell_type": "markdown",
   "id": "e79dce0e",
   "metadata": {},
   "source": [
    "## Saving and Loading"
   ]
  },
  {
   "cell_type": "code",
   "execution_count": null,
   "id": "2df572fe",
   "metadata": {},
   "outputs": [],
   "source": [
    "\n",
    "arr = np.array([1, 2, 3, 4, 5])\n",
    "\n",
    "# Save to file\n",
    "np.save('array.npy', arr)\n",
    "\n",
    "# Load from file\n",
    "loaded_arr = np.load('array.npy')\n",
    "\n",
    "# Save to text file\n",
    "np.savetxt('array.txt', arr)\n",
    "\n",
    "# Load from text file\n",
    "loaded_txt_arr = np.loadtxt('array.txt')\n"
   ]
  },
  {
   "cell_type": "markdown",
   "id": "fb06bac8",
   "metadata": {},
   "source": [
    "## Handling Missing Data"
   ]
  },
  {
   "cell_type": "code",
   "execution_count": null,
   "id": "d4106545",
   "metadata": {},
   "outputs": [],
   "source": [
    "\n",
    "arr = np.array([1, 2, np.nan, 4, 5])\n",
    "\n",
    "# Check for NaNs\n",
    "np.isnan(arr)\n",
    "\n",
    "# Replace NaNs with a value\n",
    "arr[np.isnan(arr)] = 0\n"
   ]
  },
  {
   "cell_type": "markdown",
   "id": "ad4c6135",
   "metadata": {},
   "source": [
    "## Broadcasting"
   ]
  },
  {
   "cell_type": "code",
   "execution_count": null,
   "id": "7ac0ded2",
   "metadata": {},
   "outputs": [],
   "source": [
    "\n",
    "arr = np.array([1, 2, 3])\n",
    "broadcasted_sum = arr + 1  # [2, 3, 4]\n",
    "\n",
    "arr2d = np.array([[1, 2, 3], [4, 5, 6]])\n",
    "broadcasted_sum = arr2d + arr  # [[2, 4, 6], [5, 7, 9]]\n"
   ]
  }
 ],
 "metadata": {
  "language_info": {
   "name": "python"
  }
 },
 "nbformat": 4,
 "nbformat_minor": 5
}
